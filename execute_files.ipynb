{
 "cells": [
  {
   "cell_type": "code",
   "execution_count": 11,
   "metadata": {},
   "outputs": [
    {
     "name": "stdin",
     "output_type": "stream",
     "text": [
      "PATH  :    /Users/MCA/Desktop/ANUJA B/sample/Bell\n"
     ]
    },
    {
     "name": "stdout",
     "output_type": "stream",
     "text": [
      "<class 'numpy.ndarray'>\n",
      "belly pain\n"
     ]
    }
   ],
   "source": [
    "%run myfile.py "
   ]
  },
  {
   "cell_type": "code",
   "execution_count": 16,
   "metadata": {},
   "outputs": [
    {
     "name": "stdin",
     "output_type": "stream",
     "text": [
      "PATH  :    /Users/MCA/Desktop/ANUJA B/sample/hun.3gp\n"
     ]
    },
    {
     "name": "stdout",
     "output_type": "stream",
     "text": [
      "<wave.Wave_write object at 0x000001ADE3686DD8>\n",
      "<class 'numpy.ndarray'>\n",
      "hungry\n"
     ]
    }
   ],
   "source": [
    "%run myfile.py "
   ]
  },
  {
   "cell_type": "code",
   "execution_count": 20,
   "metadata": {},
   "outputs": [
    {
     "name": "stdin",
     "output_type": "stream",
     "text": [
      "PATH  :    /Users/MCA/Desktop/ANUJA B/sample/D\n"
     ]
    },
    {
     "name": "stdout",
     "output_type": "stream",
     "text": [
      "<class 'numpy.ndarray'>\n",
      "discomfort\n"
     ]
    }
   ],
   "source": [
    "%run myfile.py "
   ]
  },
  {
   "cell_type": "code",
   "execution_count": 21,
   "metadata": {},
   "outputs": [
    {
     "name": "stdin",
     "output_type": "stream",
     "text": [
      "PATH  :    /Users/MCA/Desktop/ANUJA B/sample/tire\n"
     ]
    },
    {
     "name": "stdout",
     "output_type": "stream",
     "text": [
      "<class 'numpy.ndarray'>\n",
      "tired\n"
     ]
    }
   ],
   "source": [
    "%run myfile.py "
   ]
  },
  {
   "cell_type": "code",
   "execution_count": 22,
   "metadata": {},
   "outputs": [
    {
     "name": "stdin",
     "output_type": "stream",
     "text": [
      "PATH  :    /Users/MCA/Desktop/ANUJA B/sample/no reason.3gp\n"
     ]
    },
    {
     "name": "stdout",
     "output_type": "stream",
     "text": [
      "<wave.Wave_write object at 0x000001ADE68E2B38>\n",
      "<class 'numpy.ndarray'>\n",
      "no worries\n"
     ]
    }
   ],
   "source": [
    "%run myfile.py "
   ]
  },
  {
   "cell_type": "code",
   "execution_count": null,
   "metadata": {},
   "outputs": [],
   "source": []
  }
 ],
 "metadata": {
  "kernelspec": {
   "display_name": "Python 3",
   "language": "python",
   "name": "python3"
  },
  "language_info": {
   "codemirror_mode": {
    "name": "ipython",
    "version": 3
   },
   "file_extension": ".py",
   "mimetype": "text/x-python",
   "name": "python",
   "nbconvert_exporter": "python",
   "pygments_lexer": "ipython3",
   "version": "3.6.5"
  }
 },
 "nbformat": 4,
 "nbformat_minor": 4
}
